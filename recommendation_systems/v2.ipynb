{
 "cells": [
  {
   "cell_type": "code",
   "execution_count": 1,
   "metadata": {},
   "outputs": [],
   "source": [
    "import pandas as pd\n",
    "from sklearn.preprocessing import MinMaxScaler"
   ]
  },
  {
   "cell_type": "markdown",
   "metadata": {},
   "source": [
    "### V2"
   ]
  },
  {
   "cell_type": "code",
   "execution_count": 2,
   "metadata": {},
   "outputs": [
    {
     "name": "stderr",
     "output_type": "stream",
     "text": [
      "C:\\Users\\gabri\\AppData\\Local\\Temp\\ipykernel_28224\\2355262367.py:1: DtypeWarning: Columns (10) have mixed types. Specify dtype option on import or set low_memory=False.\n",
      "  movies_df_raw = pd.read_csv('../datasets/movies_metadata.csv')\n"
     ]
    }
   ],
   "source": [
    "movies_df_raw = pd.read_csv('../datasets/movies_metadata.csv')"
   ]
  },
  {
   "cell_type": "code",
   "execution_count": 3,
   "metadata": {},
   "outputs": [
    {
     "name": "stdout",
     "output_type": "stream",
     "text": [
      "Movies columns: Index(['adult', 'belongs_to_collection', 'budget', 'genres', 'homepage', 'id',\n",
      "       'imdb_id', 'original_language', 'original_title', 'overview',\n",
      "       'popularity', 'poster_path', 'production_companies',\n",
      "       'production_countries', 'release_date', 'revenue', 'runtime',\n",
      "       'spoken_languages', 'status', 'tagline', 'title', 'video',\n",
      "       'vote_average', 'vote_count'],\n",
      "      dtype='object')\n"
     ]
    }
   ],
   "source": [
    "print(f\"Movies columns: {movies_df_raw.columns}\")"
   ]
  },
  {
   "cell_type": "code",
   "execution_count": 4,
   "metadata": {},
   "outputs": [],
   "source": [
    "movies_columns = ['id', 'title', 'genres', 'popularity', 'vote_average', 'vote_count']\n",
    "movies_df = movies_df_raw[movies_columns].copy()"
   ]
  },
  {
   "cell_type": "code",
   "execution_count": 5,
   "metadata": {},
   "outputs": [
    {
     "data": {
      "text/html": [
       "<div>\n",
       "<style scoped>\n",
       "    .dataframe tbody tr th:only-of-type {\n",
       "        vertical-align: middle;\n",
       "    }\n",
       "\n",
       "    .dataframe tbody tr th {\n",
       "        vertical-align: top;\n",
       "    }\n",
       "\n",
       "    .dataframe thead th {\n",
       "        text-align: right;\n",
       "    }\n",
       "</style>\n",
       "<table border=\"1\" class=\"dataframe\">\n",
       "  <thead>\n",
       "    <tr style=\"text-align: right;\">\n",
       "      <th></th>\n",
       "      <th>id</th>\n",
       "      <th>title</th>\n",
       "      <th>genres</th>\n",
       "      <th>popularity</th>\n",
       "      <th>vote_average</th>\n",
       "      <th>vote_count</th>\n",
       "      <th>vote_weight</th>\n",
       "    </tr>\n",
       "  </thead>\n",
       "  <tbody>\n",
       "    <tr>\n",
       "      <th>0</th>\n",
       "      <td>862</td>\n",
       "      <td>Toy Story</td>\n",
       "      <td>[{'id': 16, 'name': 'Animation'}, {'id': 35, '...</td>\n",
       "      <td>21.946943</td>\n",
       "      <td>7.7</td>\n",
       "      <td>5415.0</td>\n",
       "      <td>7.680953</td>\n",
       "    </tr>\n",
       "    <tr>\n",
       "      <th>1</th>\n",
       "      <td>8844</td>\n",
       "      <td>Jumanji</td>\n",
       "      <td>[{'id': 12, 'name': 'Adventure'}, {'id': 14, '...</td>\n",
       "      <td>17.015539</td>\n",
       "      <td>6.9</td>\n",
       "      <td>2413.0</td>\n",
       "      <td>6.873979</td>\n",
       "    </tr>\n",
       "    <tr>\n",
       "      <th>2</th>\n",
       "      <td>15602</td>\n",
       "      <td>Grumpier Old Men</td>\n",
       "      <td>[{'id': 10749, 'name': 'Romance'}, {'id': 35, ...</td>\n",
       "      <td>11.7129</td>\n",
       "      <td>6.5</td>\n",
       "      <td>92.0</td>\n",
       "      <td>6.189510</td>\n",
       "    </tr>\n",
       "    <tr>\n",
       "      <th>3</th>\n",
       "      <td>31357</td>\n",
       "      <td>Waiting to Exhale</td>\n",
       "      <td>[{'id': 35, 'name': 'Comedy'}, {'id': 18, 'nam...</td>\n",
       "      <td>3.859495</td>\n",
       "      <td>6.1</td>\n",
       "      <td>34.0</td>\n",
       "      <td>5.813219</td>\n",
       "    </tr>\n",
       "    <tr>\n",
       "      <th>4</th>\n",
       "      <td>11862</td>\n",
       "      <td>Father of the Bride Part II</td>\n",
       "      <td>[{'id': 35, 'name': 'Comedy'}]</td>\n",
       "      <td>8.387519</td>\n",
       "      <td>5.7</td>\n",
       "      <td>173.0</td>\n",
       "      <td>5.681661</td>\n",
       "    </tr>\n",
       "  </tbody>\n",
       "</table>\n",
       "</div>"
      ],
      "text/plain": [
       "      id                        title  \\\n",
       "0    862                    Toy Story   \n",
       "1   8844                      Jumanji   \n",
       "2  15602             Grumpier Old Men   \n",
       "3  31357            Waiting to Exhale   \n",
       "4  11862  Father of the Bride Part II   \n",
       "\n",
       "                                              genres popularity  vote_average  \\\n",
       "0  [{'id': 16, 'name': 'Animation'}, {'id': 35, '...  21.946943           7.7   \n",
       "1  [{'id': 12, 'name': 'Adventure'}, {'id': 14, '...  17.015539           6.9   \n",
       "2  [{'id': 10749, 'name': 'Romance'}, {'id': 35, ...    11.7129           6.5   \n",
       "3  [{'id': 35, 'name': 'Comedy'}, {'id': 18, 'nam...   3.859495           6.1   \n",
       "4                     [{'id': 35, 'name': 'Comedy'}]   8.387519           5.7   \n",
       "\n",
       "   vote_count  vote_weight  \n",
       "0      5415.0     7.680953  \n",
       "1      2413.0     6.873979  \n",
       "2        92.0     6.189510  \n",
       "3        34.0     5.813219  \n",
       "4       173.0     5.681661  "
      ]
     },
     "execution_count": 5,
     "metadata": {},
     "output_type": "execute_result"
    }
   ],
   "source": [
    "# Calculation of the average rating for each movie\n",
    "C = movies_df['vote_average'].mean()\n",
    "m = movies_df['vote_count'].quantile(0.80)\n",
    "\n",
    "R = movies_df['vote_average']\n",
    "v = movies_df['vote_count']\n",
    "\n",
    "# Calcular o peso do voto usando a fórmula de classificação ponderada\n",
    "# Esta é a fórmula da média bayesiana:\n",
    "# classificação ponderada (WR) = (v / (v + m)) * R + (m / (v + m)) * C\n",
    "# onde:\n",
    "# R = classificação média para o filme\n",
    "# v = contagem de votos para o filme\n",
    "# C = média de votos em todos os filmes\n",
    "# m = votos mínimos necessários para ser listado (aqui usamos o percentil 80)\n",
    "movies_df['vote_weight'] = (R * v + C * m) / (v + m)\n",
    "\n",
    "movies_df.head()"
   ]
  },
  {
   "cell_type": "code",
   "execution_count": 6,
   "metadata": {},
   "outputs": [],
   "source": [
    "movies_df['popularity'] = pd.to_numeric(movies_df['popularity'], errors='coerce').fillna(0)"
   ]
  },
  {
   "cell_type": "code",
   "execution_count": 7,
   "metadata": {},
   "outputs": [
    {
     "data": {
      "text/html": [
       "<div>\n",
       "<style scoped>\n",
       "    .dataframe tbody tr th:only-of-type {\n",
       "        vertical-align: middle;\n",
       "    }\n",
       "\n",
       "    .dataframe tbody tr th {\n",
       "        vertical-align: top;\n",
       "    }\n",
       "\n",
       "    .dataframe thead th {\n",
       "        text-align: right;\n",
       "    }\n",
       "</style>\n",
       "<table border=\"1\" class=\"dataframe\">\n",
       "  <thead>\n",
       "    <tr style=\"text-align: right;\">\n",
       "      <th></th>\n",
       "      <th>popularity</th>\n",
       "      <th>vote_weight</th>\n",
       "      <th>id</th>\n",
       "    </tr>\n",
       "  </thead>\n",
       "  <tbody>\n",
       "    <tr>\n",
       "      <th>0</th>\n",
       "      <td>0.040087</td>\n",
       "      <td>0.812253</td>\n",
       "      <td>862</td>\n",
       "    </tr>\n",
       "    <tr>\n",
       "      <th>1</th>\n",
       "      <td>0.031079</td>\n",
       "      <td>0.683222</td>\n",
       "      <td>8844</td>\n",
       "    </tr>\n",
       "    <tr>\n",
       "      <th>2</th>\n",
       "      <td>0.021394</td>\n",
       "      <td>0.573779</td>\n",
       "      <td>15602</td>\n",
       "    </tr>\n",
       "    <tr>\n",
       "      <th>3</th>\n",
       "      <td>0.007049</td>\n",
       "      <td>0.513612</td>\n",
       "      <td>31357</td>\n",
       "    </tr>\n",
       "    <tr>\n",
       "      <th>4</th>\n",
       "      <td>0.015320</td>\n",
       "      <td>0.492577</td>\n",
       "      <td>11862</td>\n",
       "    </tr>\n",
       "  </tbody>\n",
       "</table>\n",
       "</div>"
      ],
      "text/plain": [
       "   popularity  vote_weight     id\n",
       "0    0.040087     0.812253    862\n",
       "1    0.031079     0.683222   8844\n",
       "2    0.021394     0.573779  15602\n",
       "3    0.007049     0.513612  31357\n",
       "4    0.015320     0.492577  11862"
      ]
     },
     "execution_count": 7,
     "metadata": {},
     "output_type": "execute_result"
    }
   ],
   "source": [
    "scaler = MinMaxScaler()\n",
    "scaled = scaler.fit_transform(movies_df[['popularity', 'vote_weight']])\n",
    "movies_scaled_df = pd.DataFrame(scaled, columns=['popularity', 'vote_weight'])\n",
    "movies_scaled_df['id'] = movies_df['id']\n",
    "movies_scaled_df.head()"
   ]
  },
  {
   "cell_type": "code",
   "execution_count": 8,
   "metadata": {},
   "outputs": [],
   "source": [
    "# Adding more weight to the popularity when calc the score\n",
    "movies_scaled_df['score'] = movies_scaled_df['vote_weight'] * 0.4 + movies_scaled_df['popularity'] * 0.6"
   ]
  },
  {
   "cell_type": "code",
   "execution_count": 9,
   "metadata": {},
   "outputs": [
    {
     "data": {
      "text/html": [
       "<div>\n",
       "<style scoped>\n",
       "    .dataframe tbody tr th:only-of-type {\n",
       "        vertical-align: middle;\n",
       "    }\n",
       "\n",
       "    .dataframe tbody tr th {\n",
       "        vertical-align: top;\n",
       "    }\n",
       "\n",
       "    .dataframe thead th {\n",
       "        text-align: right;\n",
       "    }\n",
       "</style>\n",
       "<table border=\"1\" class=\"dataframe\">\n",
       "  <thead>\n",
       "    <tr style=\"text-align: right;\">\n",
       "      <th></th>\n",
       "      <th>popularity</th>\n",
       "      <th>vote_weight</th>\n",
       "      <th>id</th>\n",
       "      <th>score</th>\n",
       "    </tr>\n",
       "  </thead>\n",
       "  <tbody>\n",
       "    <tr>\n",
       "      <th>30700</th>\n",
       "      <td>1.000000</td>\n",
       "      <td>0.606128</td>\n",
       "      <td>211672</td>\n",
       "      <td>0.842451</td>\n",
       "    </tr>\n",
       "    <tr>\n",
       "      <th>33356</th>\n",
       "      <td>0.537613</td>\n",
       "      <td>0.732859</td>\n",
       "      <td>297762</td>\n",
       "      <td>0.615712</td>\n",
       "    </tr>\n",
       "    <tr>\n",
       "      <th>42222</th>\n",
       "      <td>0.524675</td>\n",
       "      <td>0.669700</td>\n",
       "      <td>321612</td>\n",
       "      <td>0.582685</td>\n",
       "    </tr>\n",
       "    <tr>\n",
       "      <th>24455</th>\n",
       "      <td>0.390602</td>\n",
       "      <td>0.828536</td>\n",
       "      <td>177572</td>\n",
       "      <td>0.565775</td>\n",
       "    </tr>\n",
       "    <tr>\n",
       "      <th>43644</th>\n",
       "      <td>0.416507</td>\n",
       "      <td>0.729422</td>\n",
       "      <td>339403</td>\n",
       "      <td>0.541673</td>\n",
       "    </tr>\n",
       "    <tr>\n",
       "      <th>26566</th>\n",
       "      <td>0.338511</td>\n",
       "      <td>0.796081</td>\n",
       "      <td>283995</td>\n",
       "      <td>0.521539</td>\n",
       "    </tr>\n",
       "    <tr>\n",
       "      <th>292</th>\n",
       "      <td>0.257449</td>\n",
       "      <td>0.908776</td>\n",
       "      <td>680</td>\n",
       "      <td>0.517980</td>\n",
       "    </tr>\n",
       "    <tr>\n",
       "      <th>26564</th>\n",
       "      <td>0.343132</td>\n",
       "      <td>0.766091</td>\n",
       "      <td>293660</td>\n",
       "      <td>0.512315</td>\n",
       "    </tr>\n",
       "    <tr>\n",
       "      <th>23675</th>\n",
       "      <td>0.282748</td>\n",
       "      <td>0.844273</td>\n",
       "      <td>210577</td>\n",
       "      <td>0.507358</td>\n",
       "    </tr>\n",
       "    <tr>\n",
       "      <th>12481</th>\n",
       "      <td>0.224968</td>\n",
       "      <td>0.909494</td>\n",
       "      <td>155</td>\n",
       "      <td>0.498778</td>\n",
       "    </tr>\n",
       "  </tbody>\n",
       "</table>\n",
       "</div>"
      ],
      "text/plain": [
       "       popularity  vote_weight      id     score\n",
       "30700    1.000000     0.606128  211672  0.842451\n",
       "33356    0.537613     0.732859  297762  0.615712\n",
       "42222    0.524675     0.669700  321612  0.582685\n",
       "24455    0.390602     0.828536  177572  0.565775\n",
       "43644    0.416507     0.729422  339403  0.541673\n",
       "26566    0.338511     0.796081  283995  0.521539\n",
       "292      0.257449     0.908776     680  0.517980\n",
       "26564    0.343132     0.766091  293660  0.512315\n",
       "23675    0.282748     0.844273  210577  0.507358\n",
       "12481    0.224968     0.909494     155  0.498778"
      ]
     },
     "execution_count": 9,
     "metadata": {},
     "output_type": "execute_result"
    }
   ],
   "source": [
    "top_10_movies = movies_scaled_df.sort_values(by='score', ascending=False).head(10)\n",
    "top_10_movies"
   ]
  },
  {
   "cell_type": "code",
   "execution_count": 10,
   "metadata": {},
   "outputs": [
    {
     "name": "stdout",
     "output_type": "stream",
     "text": [
      "Title: Minions. Score: 0.842451046393174.\n",
      "Title: Wonder Woman. Score: 0.6157117081931772.\n",
      "Title: Beauty and the Beast. Score: 0.58268526610886.\n",
      "Title: Big Hero 6. Score: 0.565775474646886.\n",
      "Title: Baby Driver. Score: 0.5416731504614627.\n",
      "Title: Guardians of the Galaxy Vol. 2. Score: 0.5215390437551555.\n",
      "Title: Pulp Fiction. Score: 0.5179797763629913.\n",
      "Title: Deadpool. Score: 0.5123151381315753.\n",
      "Title: Gone Girl. Score: 0.5073578806636065.\n",
      "Title: The Dark Knight. Score: 0.4987784941949063.\n"
     ]
    }
   ],
   "source": [
    "top_10_movies_details = top_10_movies.merge(movies_df, on='id', how='left')\n",
    "\n",
    "for index, row in top_10_movies.iterrows():\n",
    "    movie_detail = top_10_movies_details[top_10_movies_details['id'] == row['id']]\n",
    "    print(f\"Title: {movie_detail['title'].values[0]}. Score: {row['score']}.\")"
   ]
  },
  {
   "cell_type": "code",
   "execution_count": null,
   "metadata": {},
   "outputs": [],
   "source": []
  }
 ],
 "metadata": {
  "kernelspec": {
   "display_name": ".venv",
   "language": "python",
   "name": "python3"
  },
  "language_info": {
   "codemirror_mode": {
    "name": "ipython",
    "version": 3
   },
   "file_extension": ".py",
   "mimetype": "text/x-python",
   "name": "python",
   "nbconvert_exporter": "python",
   "pygments_lexer": "ipython3",
   "version": "3.11.9"
  }
 },
 "nbformat": 4,
 "nbformat_minor": 2
}
